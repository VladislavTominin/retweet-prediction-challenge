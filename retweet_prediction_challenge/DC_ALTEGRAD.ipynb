{
 "cells": [
  {
   "cell_type": "markdown",
   "metadata": {
    "id": "nst8nMHqJQIB"
   },
   "source": [
    "#Imports"
   ]
  },
  {
   "cell_type": "code",
   "execution_count": null,
   "metadata": {
    "colab": {
     "base_uri": "https://localhost:8080/"
    },
    "id": "8zABcWG6P6xI",
    "outputId": "e7f723b3-fdaa-4047-975c-fc6a4550e850"
   },
   "outputs": [
    {
     "name": "stdout",
     "output_type": "stream",
     "text": [
      "Mounted at MyDrive\n"
     ]
    }
   ],
   "source": [
    "from google.colab import drive\n",
    "drive.mount(\"MyDrive\")"
   ]
  },
  {
   "cell_type": "code",
   "execution_count": null,
   "metadata": {
    "colab": {
     "base_uri": "https://localhost:8080/"
    },
    "id": "1yrOV1JgQI8P",
    "outputId": "f2172f07-7ce0-4135-9275-2df7c595099b"
   },
   "outputs": [
    {
     "name": "stdout",
     "output_type": "stream",
     "text": [
      "/content/MyDrive/MyDrive/Challenge\n"
     ]
    }
   ],
   "source": [
    "%cd MyDrive/MyDrive/Challenge/"
   ]
  },
  {
   "cell_type": "code",
   "execution_count": null,
   "metadata": {
    "id": "9cVciHwBQQUu"
   },
   "outputs": [],
   "source": []
  },
  {
   "cell_type": "code",
   "execution_count": null,
   "metadata": {
    "colab": {
     "base_uri": "https://localhost:8080/"
    },
    "id": "UmU8QLOLQQZX",
    "outputId": "a0fa3567-abaa-417e-f4f9-b1daa546f706"
   },
   "outputs": [
    {
     "name": "stdout",
     "output_type": "stream",
     "text": [
      "Archive:  data_challenge_2021.zip\n",
      "warning:  stripped absolute path spec from /\n",
      "mapname:  conversion of  failed\n",
      " extracting: test.txt                \n",
      " extracting: authors.txt             \n",
      " extracting: edgelist.txt            \n",
      " extracting: abstracts.txt           \n",
      " extracting: text_baseline.py        \n",
      " extracting: graph_baseline.py       \n"
     ]
    }
   ],
   "source": [
    "!unzip data_challenge_2021.zip"
   ]
  },
  {
   "cell_type": "code",
   "execution_count": null,
   "metadata": {
    "colab": {
     "base_uri": "https://localhost:8080/"
    },
    "id": "UOedCDa04orb",
    "outputId": "dc6e1988-2e74-4241-f2ec-af9ae198fe57"
   },
   "outputs": [
    {
     "name": "stdout",
     "output_type": "stream",
     "text": [
      "Collecting transformers\n",
      "  Downloading transformers-4.16.2-py3-none-any.whl (3.5 MB)\n",
      "\u001b[K     |████████████████████████████████| 3.5 MB 7.5 MB/s \n",
      "\u001b[?25hRequirement already satisfied: regex!=2019.12.17 in /usr/local/lib/python3.7/dist-packages (from transformers) (2019.12.20)\n",
      "Collecting tokenizers!=0.11.3,>=0.10.1\n",
      "  Downloading tokenizers-0.11.5-cp37-cp37m-manylinux_2_12_x86_64.manylinux2010_x86_64.whl (6.8 MB)\n",
      "\u001b[K     |████████████████████████████████| 6.8 MB 53.2 MB/s \n",
      "\u001b[?25hRequirement already satisfied: filelock in /usr/local/lib/python3.7/dist-packages (from transformers) (3.4.2)\n",
      "Requirement already satisfied: requests in /usr/local/lib/python3.7/dist-packages (from transformers) (2.23.0)\n",
      "Requirement already satisfied: packaging>=20.0 in /usr/local/lib/python3.7/dist-packages (from transformers) (21.3)\n",
      "Requirement already satisfied: numpy>=1.17 in /usr/local/lib/python3.7/dist-packages (from transformers) (1.21.5)\n",
      "Collecting huggingface-hub<1.0,>=0.1.0\n",
      "  Downloading huggingface_hub-0.4.0-py3-none-any.whl (67 kB)\n",
      "\u001b[K     |████████████████████████████████| 67 kB 7.2 MB/s \n",
      "\u001b[?25hRequirement already satisfied: tqdm>=4.27 in /usr/local/lib/python3.7/dist-packages (from transformers) (4.62.3)\n",
      "Collecting sacremoses\n",
      "  Downloading sacremoses-0.0.47-py2.py3-none-any.whl (895 kB)\n",
      "\u001b[K     |████████████████████████████████| 895 kB 65.2 MB/s \n",
      "\u001b[?25hRequirement already satisfied: importlib-metadata in /usr/local/lib/python3.7/dist-packages (from transformers) (4.11.0)\n",
      "Collecting pyyaml>=5.1\n",
      "  Downloading PyYAML-6.0-cp37-cp37m-manylinux_2_5_x86_64.manylinux1_x86_64.manylinux_2_12_x86_64.manylinux2010_x86_64.whl (596 kB)\n",
      "\u001b[K     |████████████████████████████████| 596 kB 61.0 MB/s \n",
      "\u001b[?25hRequirement already satisfied: typing-extensions>=3.7.4.3 in /usr/local/lib/python3.7/dist-packages (from huggingface-hub<1.0,>=0.1.0->transformers) (3.10.0.2)\n",
      "Requirement already satisfied: pyparsing!=3.0.5,>=2.0.2 in /usr/local/lib/python3.7/dist-packages (from packaging>=20.0->transformers) (3.0.7)\n",
      "Requirement already satisfied: zipp>=0.5 in /usr/local/lib/python3.7/dist-packages (from importlib-metadata->transformers) (3.7.0)\n",
      "Requirement already satisfied: chardet<4,>=3.0.2 in /usr/local/lib/python3.7/dist-packages (from requests->transformers) (3.0.4)\n",
      "Requirement already satisfied: idna<3,>=2.5 in /usr/local/lib/python3.7/dist-packages (from requests->transformers) (2.10)\n",
      "Requirement already satisfied: urllib3!=1.25.0,!=1.25.1,<1.26,>=1.21.1 in /usr/local/lib/python3.7/dist-packages (from requests->transformers) (1.24.3)\n",
      "Requirement already satisfied: certifi>=2017.4.17 in /usr/local/lib/python3.7/dist-packages (from requests->transformers) (2021.10.8)\n",
      "Requirement already satisfied: six in /usr/local/lib/python3.7/dist-packages (from sacremoses->transformers) (1.15.0)\n",
      "Requirement already satisfied: click in /usr/local/lib/python3.7/dist-packages (from sacremoses->transformers) (7.1.2)\n",
      "Requirement already satisfied: joblib in /usr/local/lib/python3.7/dist-packages (from sacremoses->transformers) (1.1.0)\n",
      "Installing collected packages: pyyaml, tokenizers, sacremoses, huggingface-hub, transformers\n",
      "  Attempting uninstall: pyyaml\n",
      "    Found existing installation: PyYAML 3.13\n",
      "    Uninstalling PyYAML-3.13:\n",
      "      Successfully uninstalled PyYAML-3.13\n",
      "Successfully installed huggingface-hub-0.4.0 pyyaml-6.0 sacremoses-0.0.47 tokenizers-0.11.5 transformers-4.16.2\n",
      "\u001b[K     |████████████████████████████████| 79 kB 5.5 MB/s \n",
      "\u001b[K     |████████████████████████████████| 1.2 MB 20.7 MB/s \n",
      "\u001b[?25h  Building wheel for sentence-transformers (setup.py) ... \u001b[?25l\u001b[?25hdone\n"
     ]
    }
   ],
   "source": [
    "!pip install transformers\n",
    "!pip install -U sentence-transformers --quiet\n",
    "from google.colab import drive\n",
    "import networkx as nx\n",
    "import csv\n",
    "import numpy as np\n",
    "from tqdm import tqdm\n",
    "import torch\n",
    "import transformers\n",
    "from transformers import DistilBertTokenizerFast\n",
    "from transformers import DistilBertModel, DistilBertTokenizerFast\n",
    "from random import randint, sample\n",
    "import random"
   ]
  },
  {
   "cell_type": "markdown",
   "metadata": {
    "id": "lUSPkgzJ510L"
   },
   "source": [
    "\n",
    "#Read Graph"
   ]
  },
  {
   "cell_type": "markdown",
   "metadata": {
    "id": "o2Supon1Ji8j"
   },
   "source": [
    "In this section we read a graph and form a train/test datasets. In order to prevent the model from training on ground truth, we drop edges for pairs in the dataset.\\\n",
    "First, 15% of edges are removed from the graph, the pairs for these edges form a validation dataset. The same amount of pairs without edges is sampled at random.\\\n",
    "Next, we sample 200k edges from graphto use as a training set, 60% of these edges are also removed. The obtained graph is denoted as ```G_train```"
   ]
  },
  {
   "cell_type": "code",
   "execution_count": null,
   "metadata": {
    "colab": {
     "base_uri": "https://localhost:8080/"
    },
    "id": "jj-6sf6xFiZH",
    "outputId": "86d14bae-2f5e-4dd3-90ad-a2b3c4a0ad20"
   },
   "outputs": [
    {
     "name": "stdout",
     "output_type": "stream",
     "text": [
      "Number of nodes: 138499\n",
      "Number of edges: 1091955\n"
     ]
    }
   ],
   "source": [
    "G = nx.read_edgelist('edgelist.txt', delimiter=',', create_using=nx.Graph(), nodetype=int)\n",
    "nodes = list(G.nodes())\n",
    "n = G.number_of_nodes()\n",
    "m = G.number_of_edges()\n",
    "print('Number of nodes:', n)\n",
    "print('Number of edges:', m)"
   ]
  },
  {
   "cell_type": "code",
   "execution_count": null,
   "metadata": {
    "colab": {
     "base_uri": "https://localhost:8080/"
    },
    "id": "pDGZbM9HOp3w",
    "outputId": "77a24705-b30d-4da7-b891-5eaf417b0c16"
   },
   "outputs": [
    {
     "name": "stderr",
     "output_type": "stream",
     "text": [
      "100%|██████████| 163793/163793 [00:01<00:00, 97862.74it/s]\n",
      "100%|██████████| 200000/200000 [00:04<00:00, 47023.55it/s] \n"
     ]
    }
   ],
   "source": [
    "random.seed(43)\n",
    "EDGE_DROP_TRAIN_RATE = 0.6\n",
    "G_train = G.copy()\n",
    "test_size = int(m * 0.15) \n",
    "test_pairs = []\n",
    "test_labels = []\n",
    "for i,edge in enumerate(tqdm(sample(list(G_train.edges()), test_size))):\n",
    "\n",
    "    n1 = randint(0, n-1)\n",
    "    n2 = randint(0, n-1)\n",
    "    while (n1, n2) in G_train.edges() or n1 == n2:\n",
    "        n1 = randint(0, n-1)\n",
    "        n2 = randint(0, n-1)\n",
    "\n",
    "    test_pairs.append([edge[0], edge[1]])\n",
    "    test_labels.append(1)\n",
    "    test_pairs.append([n1, n2])\n",
    "    test_labels.append(0)\n",
    "    G_train.remove_edge(edge[0], edge[1]) #drop edge in test set\n",
    "\n",
    "\n",
    "train_pairs = []\n",
    "train_labels = []\n",
    "\n",
    "\n",
    "train_abstracts = {}\n",
    "for i,edge in enumerate(tqdm(sample(list(G_train.edges()), 200000))):\n",
    "\n",
    "    n1 = randint(0, n-1)\n",
    "    n2 = randint(0, n-1)\n",
    "    while (n1, n2) in G_train.edges() or n1 == n2:\n",
    "        n1 = randint(0, n-1)\n",
    "        n2 = randint(0, n-1)\n",
    "\n",
    "    train_pairs.append([edge[0], edge[1]])\n",
    "    train_labels.append(1)\n",
    "    train_pairs.append([n1, n2])\n",
    "    train_labels.append(0)\n",
    "    remove_edge = np.random.rand() < EDGE_DROP_TRAIN_RATE #remove edge in train set with some probability\n",
    "    if remove_edge:\n",
    "        G_train.remove_edge(edge[0], edge[1])"
   ]
  },
  {
   "cell_type": "code",
   "execution_count": null,
   "metadata": {
    "id": "EonvJGH4MUD-"
   },
   "outputs": [],
   "source": [
    "LOAD_TEXT_FEATURES = True\n",
    "LOAD_AUTHOR_FEATURES = True\n",
    "LOAD_PAIR_FEATURES = False"
   ]
  },
  {
   "cell_type": "markdown",
   "metadata": {
    "id": "Bq4W8l4855c6"
   },
   "source": [
    "#Bert model"
   ]
  },
  {
   "cell_type": "markdown",
   "metadata": {
    "id": "1AKAzl7eLT_e"
   },
   "source": [
    "We load a pre-trained BERT to obtain abstract embeddings"
   ]
  },
  {
   "cell_type": "code",
   "execution_count": null,
   "metadata": {
    "id": "7MV9tBGa_n-c"
   },
   "outputs": [],
   "source": [
    "import torch.nn as nn\n",
    "from sentence_transformers import SentenceTransformer"
   ]
  },
  {
   "cell_type": "code",
   "execution_count": null,
   "metadata": {
    "colab": {
     "base_uri": "https://localhost:8080/"
    },
    "id": "FaLXS3w0pcTl",
    "outputId": "798beeff-15db-41e4-cac5-6dc416c09878"
   },
   "outputs": [
    {
     "name": "stdout",
     "output_type": "stream",
     "text": [
      "Access denied with the following error:\n",
      "\n",
      " \tCannot retrieve the public link of the file. You may need to change\n",
      "\tthe permission to 'Anyone with the link', or have had many accesses. \n",
      "\n",
      "You may still be able to access the file from the browser:\n",
      "\n",
      "\t https://drive.google.com/uc?id=1Z7rU8crJcgZJoScxPcRre9mdScioxDO1 \n",
      "\n"
     ]
    }
   ],
   "source": [
    "!gdown --id 1Z7rU8crJcgZJoScxPcRre9mdScioxDO1"
   ]
  },
  {
   "cell_type": "code",
   "execution_count": null,
   "metadata": {
    "colab": {
     "base_uri": "https://localhost:8080/"
    },
    "id": "DP0dGC9rH5ug",
    "outputId": "894e4355-3979-48d2-b2e1-e6d799e8e4d9"
   },
   "outputs": [
    {
     "name": "stdout",
     "output_type": "stream",
     "text": [
      "Access denied with the following error:\n",
      "\n",
      " \tCannot retrieve the public link of the file. You may need to change\n",
      "\tthe permission to 'Anyone with the link', or have had many accesses. \n",
      "\n",
      "You may still be able to access the file from the browser:\n",
      "\n",
      "\t https://drive.google.com/uc?id=1233WIYYiiKavkFHIXI9R8niky1V-bBNm \n",
      "\n"
     ]
    }
   ],
   "source": [
    "if not LOAD_TEXT_FEATURES:\n",
    "    model = SentenceTransformer('all-MiniLM-L6-v2')\n",
    "    #model = SentenceTransformer('average_word_embeddings_glove.6B.300d')\n",
    "\n",
    "    encodings = model.encode(list(abstracts.values()), device='cuda', show_progress_bar=True, batch_size=256, convert_to_numpy=True)\n",
    "\n",
    "    #np.save(\"embeddings.npy\", encodings)\n",
    "else:\n",
    "    !gdown --id 1233WIYYiiKavkFHIXI9R8niky1V-bBNm\n",
    "    embeddings = np.load(\"embeddings.npy\")"
   ]
  },
  {
   "cell_type": "markdown",
   "metadata": {
    "id": "P1wlxqsvxVIt"
   },
   "source": [
    "#Process Authors"
   ]
  },
  {
   "cell_type": "markdown",
   "metadata": {
    "id": "K6IzylQbLfzG"
   },
   "source": [
    "In this block we extract all the needed information about aithors to create emperical features and author embeddins"
   ]
  },
  {
   "cell_type": "code",
   "execution_count": null,
   "metadata": {
    "id": "aa2qn6Fnxbqw"
   },
   "outputs": [],
   "source": [
    "def process_line_of_authors(line):\n",
    "    paper_id, authors = line.rstrip('\\n').split('|--|')\n",
    "    paper_id = int(paper_id)\n",
    "    authors = authors.split(',')\n",
    "    return (paper_id, authors)\n",
    "\n",
    "#FIND N-LESS COMMON WORDS\n",
    "def less_common(n_words, words_list, min_occurence=9):\n",
    "    big_count = Counter(words_list) #count each word\n",
    "\n",
    "    #select word occuring more than 9 times\n",
    "    filtered_big_count = Counter()\n",
    "    temp = dict(filter(lambda x : x[1] >= min_occurence, big_count.items()))\n",
    "    for key, value in temp.items():\n",
    "      filtered_big_count[key] = value\n",
    "    \n",
    "    return [tup[0] for tup in filtered_big_count.most_common()[-n_words:]]\n",
    "\n",
    "# INTERSECTION OF LESS COMMON WORDS BETWEEN TWO PAPER ABSTRACT\n",
    "def intersection_less_common(node1, node2, abstracts_list, less_common_list):\n",
    "    node1_oh = [abstracts_list[node1].count(x) for x in less_common_list]\n",
    "    node2_oh = [abstracts_list[node2].count(x)  for x in less_common_list]\n",
    "    #node1_oh = list(map(lambda x: int(x in abstracts_list[node1]), less_common_list))\n",
    "    #node2_oh = list(map(lambda x: int(x in abstracts_list[node2]), less_common_list))\n",
    "\n",
    "    return np.dot(node1_oh,  node2_oh)\n",
    "\n",
    "def len_shortest_p(graph, src, target):\n",
    "  try :\n",
    "    return nx.shortest_path_length(graph, src, target)\n",
    "  except :\n",
    "    return 10000"
   ]
  },
  {
   "cell_type": "code",
   "execution_count": null,
   "metadata": {
    "id": "kdwjViBIxXek"
   },
   "outputs": [],
   "source": [
    "with open('authors.txt', 'r') as f:\n",
    "  l = f.readlines()\n",
    "  paper_to_authors = dict(map(process_line_of_authors, l))\n",
    "\n",
    "# LIST WITH ALL AUTHORS\n",
    "All_authors = []\n",
    "for authors in paper_to_authors.values():\n",
    "    All_authors.extend(authors)\n",
    "All_authors = set(All_authors)\n",
    "\n",
    "#DICTIONNARY DICT[AUTHOR] + AUTHOR_ID\n",
    "author_to_authorid = {author : i+1 for i, author in enumerate(All_authors)}\n",
    "\n",
    "#DICTIONNARY DICT[PAPE_ID] = LIST[AUTHORS_ID]\n",
    "paper_to_authorsid = {i : list(map(lambda x: author_to_authorid[x], authors)) for i, authors in paper_to_authors.items()}"
   ]
  },
  {
   "cell_type": "markdown",
   "metadata": {
    "id": "bBdkggaqLxFn"
   },
   "source": [
    "In this cell two graphs of authors are created, one is the graph of citation, another is a graph of cooperation"
   ]
  },
  {
   "cell_type": "code",
   "execution_count": null,
   "metadata": {
    "id": "XVdhTqxOJY3f"
   },
   "outputs": [],
   "source": [
    "\n",
    "def add_edge_or_increase_weight(G, u, v): #create edge if it is not in graph or add +1 to its weight otherwise\n",
    "    if G.has_edge(u,v):\n",
    "        G[u][v][\"weight\"] += 1\n",
    "    else:\n",
    "        G.add_edge(u, v, weight=1)\n",
    "    return\n",
    "\n",
    "A_cite_graph = nx.Graph()\n",
    "for edge in G.edges():\n",
    "    authors_p1 = paper_to_authorsid[edge[0]]\n",
    "    authors_p2 = paper_to_authorsid[edge[1]]\n",
    "    #for each pair of athuros of two papers we create edge in the citation graph\n",
    "    for a1 in authors_p1:\n",
    "        for a2 in authors_p2:\n",
    "            add_edge_or_increase_weight(A_cite_graph, a1, a2)\n",
    "\n",
    "A_coop_graph = nx.Graph()\n",
    "for a_list in paper_to_authorsid.values():\n",
    "    #for each paper we look at all its authors and include information in cooperation graph\n",
    "    for i in range(len(a_list)-1):\n",
    "        for j in range(i+1, len(a_list)):\n",
    "            add_edge_or_increase_weight(A_coop_graph, a_list[i],a_list[j])"
   ]
  },
  {
   "cell_type": "markdown",
   "metadata": {
    "id": "x9VabcCDjY7O"
   },
   "source": [
    "#Node2Vec"
   ]
  },
  {
   "cell_type": "markdown",
   "metadata": {
    "id": "FFhHhCjcMsow"
   },
   "source": [
    "Here we run Node2Vec to extract representations of each author from the graph"
   ]
  },
  {
   "cell_type": "code",
   "execution_count": null,
   "metadata": {
    "colab": {
     "base_uri": "https://localhost:8080/"
    },
    "id": "sUFxhk0HNpVD",
    "outputId": "2db34ea2-7086-4eba-e76b-81e384136a66"
   },
   "outputs": [
    {
     "name": "stdout",
     "output_type": "stream",
     "text": [
      "Collecting fastnode2vec\n",
      "  Downloading fastnode2vec-0.0.5-py3-none-any.whl (7.1 kB)\n",
      "Requirement already satisfied: tqdm in /usr/local/lib/python3.7/dist-packages (from fastnode2vec) (4.62.3)\n",
      "Requirement already satisfied: gensim in /usr/local/lib/python3.7/dist-packages (from fastnode2vec) (3.6.0)\n",
      "Requirement already satisfied: numpy in /usr/local/lib/python3.7/dist-packages (from fastnode2vec) (1.21.5)\n",
      "Requirement already satisfied: click in /usr/local/lib/python3.7/dist-packages (from fastnode2vec) (7.1.2)\n",
      "Requirement already satisfied: numba in /usr/local/lib/python3.7/dist-packages (from fastnode2vec) (0.51.2)\n",
      "Requirement already satisfied: six>=1.5.0 in /usr/local/lib/python3.7/dist-packages (from gensim->fastnode2vec) (1.15.0)\n",
      "Requirement already satisfied: scipy>=0.18.1 in /usr/local/lib/python3.7/dist-packages (from gensim->fastnode2vec) (1.4.1)\n",
      "Requirement already satisfied: smart-open>=1.2.1 in /usr/local/lib/python3.7/dist-packages (from gensim->fastnode2vec) (5.2.1)\n",
      "Requirement already satisfied: setuptools in /usr/local/lib/python3.7/dist-packages (from numba->fastnode2vec) (57.4.0)\n",
      "Requirement already satisfied: llvmlite<0.35,>=0.34.0.dev0 in /usr/local/lib/python3.7/dist-packages (from numba->fastnode2vec) (0.34.0)\n",
      "Installing collected packages: fastnode2vec\n",
      "Successfully installed fastnode2vec-0.0.5\n"
     ]
    }
   ],
   "source": [
    "!pip install fastnode2vec\n",
    "from fastnode2vec import Node2Vec, Graph\n",
    "import gensim"
   ]
  },
  {
   "cell_type": "code",
   "execution_count": null,
   "metadata": {
    "colab": {
     "base_uri": "https://localhost:8080/"
    },
    "id": "oHFWWQrDN-tj",
    "outputId": "85d939b1-e54a-423e-c2af-556d90443666"
   },
   "outputs": [
    {
     "name": "stderr",
     "output_type": "stream",
     "text": [
      "Reading graph: 100%|██████████| 8050051/8050051 [00:09<00:00, 864594.65it/s]\n",
      "Training: 100%|██████████| 14968200/14968200 [46:01<00:00, 5419.69it/s]\n"
     ]
    }
   ],
   "source": [
    "if not LOAD_AUTHOR_FEATURES\n",
    "    edges_list = [(str(e[0]), str(e[1]), A_cite_graph[e[0]][e[1]][\"weight\"])\n",
    "                  for e in A_cite_graph.edges]\n",
    "    g = Graph(edges_list, directed=False, weighted=True)\n",
    "    node2vec = Node2Vec(g, dim=128, walk_length=15,\n",
    "                        context=10, p=1, q=0.5, workers=10)\n",
    "    node2vec.train(epochs=100)\n",
    "    node2vec.wv.save_word2vec_format('a_cite.nodevectors')\n",
    "\n",
    "    edges_list_coop = [(str(e[0]), str(e[1]), A_coop_graph[e[0]][e[1]][\"weight\"])\n",
    "              for e in A_coop_graph.edges]\n",
    "    g = Graph(edges_list, directed=False, weighted=True)\n",
    "    a_coop_model = Node2Vec(g, dim=128, walk_length=15,\n",
    "                        context=10, p=1, q=0.5, workers=10)\n",
    "    a_coop_model.train(epochs=100)\n",
    "    a_coop_model.wv.save_word2vec_format('a_coop.nodevectors')\n",
    "\n",
    "else:\n",
    "    ! gdown --id 1-00RDGpf6bvC7De3K1I2aAP5gErgEO9Y\n",
    "    !gdown --id 1G-uItGZdwtH5E6vNBOlGlefvL4qEbTAO"
   ]
  },
  {
   "cell_type": "code",
   "execution_count": null,
   "metadata": {
    "id": "4C79U-BzQ2X2"
   },
   "outputs": [],
   "source": [
    "a_coop_model = gensim.models.KeyedVectors.load_word2vec_format(\"a_coop.nodevectors\")\n",
    "a_cite_model = gensim.models.KeyedVectors.load_word2vec_format(\"a_cite.nodevectors\")"
   ]
  },
  {
   "cell_type": "code",
   "execution_count": null,
   "metadata": {
    "colab": {
     "base_uri": "https://localhost:8080/"
    },
    "id": "sJK6K67pzteA",
    "outputId": "2ca09463-cb3c-4821-eca9-55aeb8d54822"
   },
   "outputs": [
    {
     "name": "stderr",
     "output_type": "stream",
     "text": [
      "/usr/local/lib/python3.7/dist-packages/ipykernel_launcher.py:4: DeprecationWarning: Call to deprecated `wv` (Attribute will be removed in 4.0.0, use self instead).\n",
      "  after removing the cwd from sys.path.\n",
      "/usr/local/lib/python3.7/dist-packages/ipykernel_launcher.py:5: DeprecationWarning: Call to deprecated `wv` (Attribute will be removed in 4.0.0, use self instead).\n",
      "  \"\"\"\n"
     ]
    }
   ],
   "source": [
    "node_a_embeddings = {}\n",
    "for node in G_train.nodes():\n",
    "    a_ids = paper_to_authorsid[int(node)]\n",
    "    emb_coop = np.mean([a_coop_model.wv[str(a)] for a in a_ids if str(a) in a_coop_model.wv.vocab],axis = 0)\n",
    "    emb_cite = np.mean([a_cite_model.wv[str(a)] for a in a_ids if str(a) in a_cite_model.wv.vocab],axis = 0)\n",
    "    node_a_embeddings[node] = np.hstack([emb_coop, emb_cite])"
   ]
  },
  {
   "cell_type": "markdown",
   "metadata": {
    "id": "DpKaYBmSfgmK"
   },
   "source": [
    "#Pair features"
   ]
  },
  {
   "cell_type": "code",
   "execution_count": null,
   "metadata": {
    "id": "o2LQ9Caxfjii"
   },
   "outputs": [],
   "source": [
    "NB_PAIR_FEATURES = 12\n",
    "\n",
    "X_pairs_train = torch.zeros((len(train_pairs), NB_PAIR_FEATURES))\n",
    "for i, edge in enumerate(tqdm(train_pairs)):\n",
    "    X_pairs_train[i, 0] = G_train.degree(edge[0]) + G_train.degree(edge[1])\n",
    "    X_pairs_train[i, 1] = abs(G_train.degree(edge[0]) - G_train.degree(edge[1]))\n",
    "    X_pairs_train[i, 2] = len(set(paper_to_authorsid[edge[0]]).intersection(set(paper_to_authorsid[edge[1]]))) \n",
    "    X_pairs_train[i, 3] = len(set(paper_to_authorsid[edge[0]]).intersection(set(paper_to_authorsid[edge[1]]))) / len(set(paper_to_authorsid[edge[0]]).union(set(paper_to_authorsid[edge[1]])))\n",
    "    X_pairs_train[i, 4] = len({n for n in G_train.neighbors(edge[0])}.intersection({n for n in G_train.neighbors(edge[1])}))\n",
    "    X_pairs_train[ i, 5] = len({n for n in G_train.neighbors(edge[0])}.intersection({n for n in G_train.neighbors(edge[1])})) / (len({n for n in G_train.neighbors(edge[0])}.union({n for n in G_train.neighbors(edge[1])})) + 1)\n",
    "    X_pairs_train[i, 6] = list(nx.resource_allocation_index(G_train, [(edge[0], edge[1])]))[0][-1]\n",
    "    X_pairs_train[i, 7] = list(nx.adamic_adar_index(G_train, [(edge[0], edge[1])]))[0][-1]\n",
    "    X_pairs_train[i, 8] = len(set(paper_to_authorsid[edge[0]])) + len(set(paper_to_authorsid[edge[1]])) \n",
    "    X_pairs_train[i, 9] = nx.algorithms.centrality.dispersion(G_train, u=edge[0], v=edge[1])\n",
    "    X_pairs_train[i, 10] = nx.has_path(G_train, edge[0], edge[1])\n",
    "    X_pairs_train[i, 11] = len_shortest_p(G_train, edge[0], edge[1]) < 11\n",
    "    #X_pairs_train[ i, 9] = len([path for path in nx.all_simple_edge_paths(G, source=edge[0], target=edge[1], cutoff=3) if len(path) == 3])\n",
    "\n",
    "    "
   ]
  },
  {
   "cell_type": "code",
   "execution_count": null,
   "metadata": {
    "id": "HQlOnEudfoYp"
   },
   "outputs": [],
   "source": [
    "X_pairs_test = torch.zeros((len(test_pairs), NB_PAIR_FEATURES))\n",
    "for i, edge in enumerate(tqdm(test_pairs)):\n",
    "    X_pairs_test[i, 0] = G_train.degree(edge[0]) + G_train.degree(edge[1])\n",
    "    X_pairs_test[i, 1] = abs(G_train.degree(edge[0]) - G_train.degree(edge[1]))\n",
    "    X_pairs_test[i, 2] = len(set(paper_to_authorsid[edge[0]]).intersection(set(paper_to_authorsid[edge[1]]))) \n",
    "    X_pairs_test[i, 3] = len(set(paper_to_authorsid[edge[0]]).intersection(set(paper_to_authorsid[edge[1]]))) / len(set(paper_to_authorsid[edge[0]]).union(set(paper_to_authorsid[edge[1]])))\n",
    "    X_pairs_test[i, 4] = len({n for n in G_train.neighbors(edge[0])}.intersection({n for n in G_train.neighbors(edge[1])}))\n",
    "    X_pairs_test[ i, 5] = len({n for n in G_train.neighbors(edge[0])}.intersection({n for n in G_train.neighbors(edge[1])})) / (len({n for n in G_train.neighbors(edge[0])}.union({n for n in G_train.neighbors(edge[1])})) + 1)\n",
    "    X_pairs_test[i, 6] = list(nx.resource_allocation_index(G_train, [(edge[0], edge[1])]))[0][-1]\n",
    "    X_pairs_test[i, 7] = list(nx.adamic_adar_index(G_train, [(edge[0], edge[1])]))[0][-1]\n",
    "    X_pairs_test[i, 8] = len(set(paper_to_authorsid[edge[0]])) + len(set(paper_to_authorsid[edge[1]])) \n",
    "    \n",
    "    X_pairs_test[i, 9] = nx.algorithms.centrality.dispersion(G_train, u=edge[0], v=edge[1])\n",
    "    X_pairs_test[i, 10] = nx.has_path(G_train, edge[0], edge[1])\n",
    "    X_pairs_test[i, 11] = len_shortest_p(G_train, edge[0], edge[1]) < 11\n",
    "    #X_pairs_test[ i, 9] = len([path for path in nx.all_simple_edge_paths(G, source=edge[0], target=edge[1], cutoff=3) if len(path) == 3])"
   ]
  },
  {
   "cell_type": "code",
   "execution_count": null,
   "metadata": {
    "id": "acNRSirGfo25"
   },
   "outputs": [],
   "source": [
    "sub_pairs = list()\n",
    "with open('test.txt', 'r') as f:\n",
    "    for line in f:\n",
    "        t = line.split(',')\n",
    "        sub_pairs.append((int(t[0]), int(t[1])))\n",
    "\n",
    "# Create the test matrix. Use the same features as above\n",
    "X_sub = torch.zeros((len(sub_pairs), NB_PAIR_FEATURES))\n",
    "\n",
    "for i,edge in enumerate(tqdm(sub_pairs)):\n",
    "    X_sub[i, 0] = G.degree(edge[0]) + G.degree(edge[1])\n",
    "    X_sub[i, 1] = abs(G.degree(edge[0]) - G.degree(edge[1]))\n",
    "    X_sub[i, 2] = len(set(paper_to_authorsid[edge[0]]).intersection(set(paper_to_authorsid[edge[1]]))) \n",
    "    X_sub[i, 3] = len(set(paper_to_authorsid[edge[0]]).intersection(set(paper_to_authorsid[edge[1]]))) / len(set(paper_to_authorsid[edge[0]]).union(set(paper_to_authorsid[edge[1]])))\n",
    "    X_sub[i, 4] = len({n for n in G.neighbors(edge[0])}.intersection({n for n in G.neighbors(edge[1])}))\n",
    "    X_sub[ i, 5] = len({n for n in G.neighbors(edge[0])}.intersection({n for n in G.neighbors(edge[1])})) / len({n for n in G.neighbors(edge[0])}.union({n for n in G.neighbors(edge[1])}))\n",
    "    X_sub[i, 6] = list(nx.resource_allocation_index(G, [(edge[0], edge[1])]))[0][-1]\n",
    "    X_sub[i, 7] = list(nx.adamic_adar_index(G, [(edge[0], edge[1])]))[0][-1]\n",
    "    X_sub[i, 8] = len(set(paper_to_authorsid[edge[0]])) + len(set(paper_to_authorsid[edge[1]])) \n",
    "    \n",
    "    X_sub[i, 9] = nx.algorithms.centrality.dispersion(G, u=edge[0], v=edge[1])\n",
    "    X_sub[i, 10] = nx.has_path(G, edge[0], edge[1])\n",
    "    X_sub[i, 11] = len_shortest_p(G, edge[0], edge[1]) < 11\n",
    "    #X_sub[ i, 9] = len([path for path in nx.all_simple_edge_paths(G, source=edge[0], target=edge[1], cutoff=3) if len(path) == 3])\n"
   ]
  },
  {
   "cell_type": "markdown",
   "metadata": {
    "id": "JbSrayRd1ywu"
   },
   "source": [
    "#GCN"
   ]
  },
  {
   "cell_type": "markdown",
   "metadata": {
    "id": "MHIn0cqcfxqR"
   },
   "source": [
    "In this block we use our GNN-based architecture as described in the report"
   ]
  },
  {
   "cell_type": "code",
   "execution_count": null,
   "metadata": {
    "colab": {
     "base_uri": "https://localhost:8080/"
    },
    "id": "vcNfEDs24KKB",
    "outputId": "6f903240-21bd-4a85-9bf5-2ef4d04b46ee"
   },
   "outputs": [
    {
     "name": "stdout",
     "output_type": "stream",
     "text": [
      "Looking in links: https://data.dgl.ai/wheels/repo.html\n",
      "Collecting dgl-cu111\n",
      "  Downloading https://data.dgl.ai/wheels/dgl_cu111-0.7.2-cp37-cp37m-manylinux1_x86_64.whl (165.0 MB)\n",
      "\u001b[K     |████████████████████████████████| 165.0 MB 54 kB/s \n",
      "\u001b[?25hRequirement already satisfied: numpy>=1.14.0 in /usr/local/lib/python3.7/dist-packages (from dgl-cu111) (1.21.5)\n",
      "Requirement already satisfied: scipy>=1.1.0 in /usr/local/lib/python3.7/dist-packages (from dgl-cu111) (1.4.1)\n",
      "Requirement already satisfied: requests>=2.19.0 in /usr/local/lib/python3.7/dist-packages (from dgl-cu111) (2.23.0)\n",
      "Requirement already satisfied: networkx>=2.1 in /usr/local/lib/python3.7/dist-packages (from dgl-cu111) (2.6.3)\n",
      "Requirement already satisfied: certifi>=2017.4.17 in /usr/local/lib/python3.7/dist-packages (from requests>=2.19.0->dgl-cu111) (2021.10.8)\n",
      "Requirement already satisfied: idna<3,>=2.5 in /usr/local/lib/python3.7/dist-packages (from requests>=2.19.0->dgl-cu111) (2.10)\n",
      "Requirement already satisfied: chardet<4,>=3.0.2 in /usr/local/lib/python3.7/dist-packages (from requests>=2.19.0->dgl-cu111) (3.0.4)\n",
      "Requirement already satisfied: urllib3!=1.25.0,!=1.25.1,<1.26,>=1.21.1 in /usr/local/lib/python3.7/dist-packages (from requests>=2.19.0->dgl-cu111) (1.24.3)\n",
      "Installing collected packages: dgl-cu111\n",
      "Successfully installed dgl-cu111-0.7.2\n"
     ]
    }
   ],
   "source": [
    "!pip install dgl-cu111 -f https://data.dgl.ai/wheels/repo.html"
   ]
  },
  {
   "cell_type": "code",
   "execution_count": null,
   "metadata": {
    "colab": {
     "base_uri": "https://localhost:8080/"
    },
    "id": "WWH3vGPl103W",
    "outputId": "6170ad89-b367-4307-ebb7-2613239a5ec4"
   },
   "outputs": [
    {
     "name": "stderr",
     "output_type": "stream",
     "text": [
      "DGL backend not selected or invalid.  Assuming PyTorch for now.\n",
      "Using backend: pytorch\n"
     ]
    },
    {
     "name": "stdout",
     "output_type": "stream",
     "text": [
      "Setting the default backend to \"pytorch\". You can change it in the ~/.dgl/config.json file or export the DGLBACKEND environment variable.  Valid options are: pytorch, mxnet, tensorflow (all lowercase)\n"
     ]
    }
   ],
   "source": [
    "import dgl\n",
    "import torch\n",
    "import torch.nn as nn\n",
    "import torch.nn.functional as F\n",
    "import itertools\n",
    "import numpy as np\n",
    "import scipy.sparse as sp\n",
    "from dgl.nn import SAGEConv, GATConv"
   ]
  },
  {
   "cell_type": "code",
   "execution_count": null,
   "metadata": {
    "id": "bmigTSg34f0F"
   },
   "outputs": [],
   "source": [
    "\n",
    "\n",
    "# build a two-layer GraphSAGE model\n",
    "class GraphSAGE(nn.Module):\n",
    "    def __init__(self, in_feats, h_feats):\n",
    "        super(GraphSAGE, self).__init__()\n",
    "        self.conv1 = SAGEConv(in_feats, h_feats, 'gcn')\n",
    "        self.conv2 = SAGEConv(h_feats, h_feats, 'gcn')\n",
    "        self.conv3 = SAGEConv(h_feats, h_feats, 'gcn')\n",
    "        self.relu = nn.LeakyReLU()\n",
    "        self.dropout = nn.Dropout(p=.5)\n",
    "\n",
    "    def forward(self, g, in_feat):\n",
    "        h = self.conv1(g, in_feat)\n",
    "        h = self.relu(h)\n",
    "        h = self.dropout(h)\n",
    "\n",
    "        h = self.conv2(g, h)\n",
    "        h = self.relu(h)\n",
    "        h = self.dropout(h)\n",
    "\n",
    "        h = self.conv3(g, h)\n",
    "        return h"
   ]
  },
  {
   "cell_type": "code",
   "execution_count": null,
   "metadata": {
    "id": "Z1NO0uTleZMX"
   },
   "outputs": [],
   "source": [
    "class MLPPredictor(nn.Module):\n",
    "    def __init__(self, h_feats):\n",
    "        super().__init__()\n",
    "        self.fc1 = nn.Linear(h_feats * 2 + NB_PAIR_FEATURES, h_feats)\n",
    "        self.fc2 = nn.Linear(h_feats, 1)\n",
    "\n",
    "    def forward(self, h, X ):\n",
    "        feat = torch.cat((h[:,0,:], h[:,1,:], X), dim=1)\n",
    "        x = F.relu(self.fc1(feat))\n",
    "        return self.fc2(x)\n",
    "\n",
    "\n",
    "class MLPPredictorSE(nn.Module):\n",
    "    def __init__(self, h_feats):\n",
    "        super().__init__()\n",
    "        self.fc1 = nn.Linear(h_feats, 128)\n",
    "        self.fc2 = nn.Linear(128, 64)\n",
    "        self.fc3 = nn.Linear(64, 1)\n",
    "\n",
    "    def forward(self, x ):\n",
    "        x = F.relu(self.fc1(x))\n",
    "        x = F.relu(self.fc2(x))\n",
    "        return self.fc3(x)"
   ]
  },
  {
   "cell_type": "code",
   "execution_count": null,
   "metadata": {
    "id": "_wqBVnZJ50Tv"
   },
   "outputs": [],
   "source": [
    "device = torch.device(\"cuda\") if torch.cuda.is_available() else torch.device(\"cpu\")\n",
    "X = torch.tensor(embeddings).to(device)\n",
    "\n",
    "test_labels = torch.tensor(test_labels).float().to(device)\n",
    "train_labels = torch.tensor(train_labels).float().to(device)\n",
    "\n",
    "X_pairs_test = X_pairs_test.to(device)\n",
    "X_pairs_train = X_pairs_train.to(device)"
   ]
  },
  {
   "cell_type": "code",
   "execution_count": null,
   "metadata": {
    "id": "w-8zzu1zcTp9"
   },
   "outputs": [],
   "source": [
    "X_author = torch.zeros(X.shape[0], node_a_embeddings[0].shape[0])\n",
    "for i, vec in zip(node_a_embeddings.keys(), node_a_embeddings.values()):\n",
    "    X_author[i] = torch.tensor(vec)"
   ]
  },
  {
   "cell_type": "code",
   "execution_count": null,
   "metadata": {
    "id": "oG8piysceM4c"
   },
   "outputs": [],
   "source": [
    "X = torch.cat([X, X_author.to(device)], dim=1)\n",
    "g_train = dgl.from_networkx(G_train).to(device)\n",
    "g_train = dgl.add_self_loop(g_train)\n",
    "\n",
    "\n",
    "gnn_model = GraphSAGE(X.shape[1], 150).to(device)\n",
    "mlp_model = MLPPredictorSE(150 + NB_PAIR_FEATURES).to(device)\n",
    "params = list(gnn_model.parameters()) + list(mlp_model.parameters())\n",
    "optimizer = torch.optim.AdamW(params, lr=1e-3, weight_decay=0.0005)"
   ]
  },
  {
   "cell_type": "code",
   "execution_count": null,
   "metadata": {
    "colab": {
     "base_uri": "https://localhost:8080/"
    },
    "id": "GO-WL-b76HL2",
    "outputId": "d29b6d03-2caa-4577-978a-f5e5b6f03e33"
   },
   "outputs": [
    {
     "name": "stdout",
     "output_type": "stream",
     "text": [
      "epoch 0,train_loss = 0.6477522850036621, test_loss = 0.646271288394928\n",
      "epoch 1,train_loss = 0.6253641843795776, test_loss = 0.624096155166626\n",
      "epoch 2,train_loss = 0.6159651279449463, test_loss = 0.6152353882789612\n",
      "epoch 3,train_loss = 0.6041077971458435, test_loss = 0.6041202545166016\n",
      "epoch 4,train_loss = 0.588280200958252, test_loss = 0.5892348289489746\n",
      "epoch 5,train_loss = 0.571135938167572, test_loss = 0.5734578967094421\n",
      "epoch 6,train_loss = 0.5546502470970154, test_loss = 0.5586272478103638\n",
      "epoch 7,train_loss = 0.5370312333106995, test_loss = 0.5436577200889587\n",
      "epoch 8,train_loss = 0.5151461958885193, test_loss = 0.5258376002311707\n",
      "epoch 9,train_loss = 0.4904625713825226, test_loss = 0.5070428252220154\n",
      "epoch 10,train_loss = 0.47099119424819946, test_loss = 0.4977725148200989\n",
      "epoch 11,train_loss = 0.4657295048236847, test_loss = 0.506120502948761\n",
      "epoch 12,train_loss = 0.47196632623672485, test_loss = 0.5240391492843628\n",
      "epoch 13,train_loss = 0.4735821783542633, test_loss = 0.5296517610549927\n",
      "epoch 14,train_loss = 0.46813639998435974, test_loss = 0.5204909443855286\n",
      "epoch 15,train_loss = 0.4603967070579529, test_loss = 0.5068148970603943\n",
      "epoch 16,train_loss = 0.4528983533382416, test_loss = 0.49307766556739807\n",
      "epoch 17,train_loss = 0.44703179597854614, test_loss = 0.4814705550670624\n",
      "epoch 18,train_loss = 0.4402451515197754, test_loss = 0.4725625514984131\n",
      "epoch 19,train_loss = 0.4331546127796173, test_loss = 0.46337974071502686\n",
      "epoch 20,train_loss = 0.42842021584510803, test_loss = 0.458662748336792\n",
      "epoch 21,train_loss = 0.4273877739906311, test_loss = 0.4571972191333771\n",
      "epoch 22,train_loss = 0.4205234944820404, test_loss = 0.4499295949935913\n",
      "epoch 23,train_loss = 0.408535897731781, test_loss = 0.43642690777778625\n",
      "epoch 24,train_loss = 0.39696499705314636, test_loss = 0.4237457811832428\n",
      "epoch 25,train_loss = 0.38619881868362427, test_loss = 0.4127574563026428\n",
      "epoch 26,train_loss = 0.3741968274116516, test_loss = 0.40129947662353516\n",
      "epoch 27,train_loss = 0.36188504099845886, test_loss = 0.3899451792240143\n",
      "epoch 28,train_loss = 0.34909018874168396, test_loss = 0.3793381154537201\n",
      "epoch 29,train_loss = 0.3376278877258301, test_loss = 0.36851245164871216\n",
      "epoch 30,train_loss = 0.32595548033714294, test_loss = 0.35823678970336914\n",
      "epoch 31,train_loss = 0.31667399406433105, test_loss = 0.34839609265327454\n",
      "epoch 32,train_loss = 0.30810490250587463, test_loss = 0.33968737721443176\n",
      "epoch 33,train_loss = 0.2996135354042053, test_loss = 0.330256849527359\n",
      "epoch 34,train_loss = 0.29290470480918884, test_loss = 0.3214859068393707\n",
      "epoch 35,train_loss = 0.287932813167572, test_loss = 0.3147861659526825\n",
      "epoch 36,train_loss = 0.2834509611129761, test_loss = 0.3091207444667816\n",
      "epoch 37,train_loss = 0.2804791033267975, test_loss = 0.3046872615814209\n",
      "epoch 38,train_loss = 0.2768782675266266, test_loss = 0.29995816946029663\n",
      "epoch 39,train_loss = 0.2724190652370453, test_loss = 0.2957320511341095\n",
      "epoch 40,train_loss = 0.26852959394454956, test_loss = 0.2932074964046478\n",
      "epoch 41,train_loss = 0.26447463035583496, test_loss = 0.2893667221069336\n",
      "epoch 42,train_loss = 0.26009416580200195, test_loss = 0.2847125828266144\n",
      "epoch 43,train_loss = 0.2553073763847351, test_loss = 0.2798134386539459\n",
      "epoch 44,train_loss = 0.2524191439151764, test_loss = 0.27634379267692566\n",
      "epoch 45,train_loss = 0.24923713505268097, test_loss = 0.2732083201408386\n",
      "epoch 46,train_loss = 0.24634450674057007, test_loss = 0.27134087681770325\n",
      "epoch 47,train_loss = 0.24307440221309662, test_loss = 0.26982441544532776\n",
      "epoch 48,train_loss = 0.24077363312244415, test_loss = 0.26659873127937317\n",
      "epoch 49,train_loss = 0.23816393315792084, test_loss = 0.262859046459198\n",
      "epoch 50,train_loss = 0.23565487563610077, test_loss = 0.25981107354164124\n",
      "epoch 51,train_loss = 0.2343212515115738, test_loss = 0.2567785680294037\n",
      "epoch 52,train_loss = 0.2323601096868515, test_loss = 0.25423315167427063\n",
      "epoch 53,train_loss = 0.23068523406982422, test_loss = 0.2526591718196869\n",
      "epoch 54,train_loss = 0.2299424558877945, test_loss = 0.25296178460121155\n",
      "epoch 55,train_loss = 0.22858202457427979, test_loss = 0.25110533833503723\n",
      "epoch 56,train_loss = 0.22763171792030334, test_loss = 0.2495763748884201\n",
      "epoch 57,train_loss = 0.22658085823059082, test_loss = 0.24808594584465027\n",
      "epoch 58,train_loss = 0.22475796937942505, test_loss = 0.24596074223518372\n",
      "epoch 59,train_loss = 0.22349044680595398, test_loss = 0.2453642636537552\n",
      "epoch 60,train_loss = 0.22242681682109833, test_loss = 0.24451465904712677\n",
      "epoch 61,train_loss = 0.2209009975194931, test_loss = 0.24216803908348083\n",
      "epoch 62,train_loss = 0.21995960175991058, test_loss = 0.24013641476631165\n",
      "epoch 63,train_loss = 0.218586727976799, test_loss = 0.23866046965122223\n",
      "epoch 64,train_loss = 0.2175390124320984, test_loss = 0.23773986101150513\n",
      "epoch 65,train_loss = 0.21631570160388947, test_loss = 0.23764951527118683\n",
      "epoch 66,train_loss = 0.21508072316646576, test_loss = 0.2363094538450241\n",
      "epoch 67,train_loss = 0.2135401964187622, test_loss = 0.23518358170986176\n",
      "epoch 68,train_loss = 0.21272608637809753, test_loss = 0.23366369307041168\n",
      "epoch 69,train_loss = 0.211776003241539, test_loss = 0.2323468029499054\n",
      "epoch 70,train_loss = 0.21057507395744324, test_loss = 0.23140482604503632\n",
      "epoch 71,train_loss = 0.2092832773923874, test_loss = 0.2300242781639099\n",
      "epoch 72,train_loss = 0.20812347531318665, test_loss = 0.22824302315711975\n",
      "epoch 73,train_loss = 0.2067943662405014, test_loss = 0.22710373997688293\n",
      "epoch 74,train_loss = 0.20608137547969818, test_loss = 0.2273237258195877\n",
      "epoch 75,train_loss = 0.20467640459537506, test_loss = 0.22531826794147491\n",
      "epoch 76,train_loss = 0.2033730000257492, test_loss = 0.22313997149467468\n",
      "epoch 77,train_loss = 0.20279031991958618, test_loss = 0.22330336272716522\n",
      "epoch 78,train_loss = 0.20110413432121277, test_loss = 0.2221551090478897\n",
      "epoch 79,train_loss = 0.19992761313915253, test_loss = 0.21984601020812988\n",
      "epoch 80,train_loss = 0.19901776313781738, test_loss = 0.2192625105381012\n",
      "epoch 81,train_loss = 0.19741714000701904, test_loss = 0.21843262016773224\n",
      "epoch 82,train_loss = 0.19603443145751953, test_loss = 0.21658265590667725\n",
      "epoch 83,train_loss = 0.19422511756420135, test_loss = 0.21464869379997253\n",
      "epoch 84,train_loss = 0.1933426558971405, test_loss = 0.21417352557182312\n",
      "epoch 85,train_loss = 0.19176730513572693, test_loss = 0.21241626143455505\n",
      "epoch 86,train_loss = 0.19053950905799866, test_loss = 0.2115386575460434\n",
      "epoch 87,train_loss = 0.1899278461933136, test_loss = 0.21134595572948456\n",
      "epoch 88,train_loss = 0.18856020271778107, test_loss = 0.20877446234226227\n",
      "epoch 89,train_loss = 0.1870037466287613, test_loss = 0.20801502466201782\n",
      "epoch 90,train_loss = 0.18648415803909302, test_loss = 0.20741209387779236\n",
      "epoch 91,train_loss = 0.18532027304172516, test_loss = 0.20536839962005615\n",
      "epoch 92,train_loss = 0.18399278819561005, test_loss = 0.2046613246202469\n",
      "epoch 93,train_loss = 0.18287135660648346, test_loss = 0.20437753200531006\n",
      "epoch 94,train_loss = 0.182223379611969, test_loss = 0.20184729993343353\n",
      "epoch 95,train_loss = 0.180858314037323, test_loss = 0.20134595036506653\n",
      "epoch 96,train_loss = 0.17981739342212677, test_loss = 0.20090392231941223\n",
      "epoch 97,train_loss = 0.17934571206569672, test_loss = 0.198374941945076\n",
      "epoch 98,train_loss = 0.17726491391658783, test_loss = 0.1980500966310501\n",
      "epoch 99,train_loss = 0.17613697052001953, test_loss = 0.19648592174053192\n",
      "epoch 100,train_loss = 0.1751219481229782, test_loss = 0.19475264847278595\n",
      "epoch 101,train_loss = 0.1742188185453415, test_loss = 0.19502924382686615\n",
      "epoch 102,train_loss = 0.17313575744628906, test_loss = 0.19316674768924713\n",
      "epoch 103,train_loss = 0.1723659783601761, test_loss = 0.19145819544792175\n",
      "epoch 104,train_loss = 0.17194317281246185, test_loss = 0.19387905299663544\n",
      "epoch 105,train_loss = 0.172716423869133, test_loss = 0.19059330224990845\n",
      "epoch 106,train_loss = 0.16981516778469086, test_loss = 0.19127552211284637\n",
      "epoch 107,train_loss = 0.1708592176437378, test_loss = 0.19546200335025787\n",
      "epoch 108,train_loss = 0.17252886295318604, test_loss = 0.18877141177654266\n",
      "epoch 109,train_loss = 0.16783857345581055, test_loss = 0.18704469501972198\n",
      "epoch 110,train_loss = 0.1701759397983551, test_loss = 0.1955801099538803\n",
      "epoch 111,train_loss = 0.1652836799621582, test_loss = 0.18514332175254822\n",
      "epoch 112,train_loss = 0.16662956774234772, test_loss = 0.18442215025424957\n",
      "epoch 113,train_loss = 0.163120836019516, test_loss = 0.1843428760766983\n",
      "epoch 114,train_loss = 0.1654822677373886, test_loss = 0.18916015326976776\n",
      "epoch 115,train_loss = 0.16205666959285736, test_loss = 0.18138471245765686\n",
      "epoch 116,train_loss = 0.1621330827474594, test_loss = 0.18038824200630188\n",
      "epoch 117,train_loss = 0.1596219688653946, test_loss = 0.18154489994049072\n",
      "epoch 118,train_loss = 0.16038188338279724, test_loss = 0.18535207211971283\n",
      "epoch 119,train_loss = 0.1579951047897339, test_loss = 0.1778339296579361\n",
      "epoch 120,train_loss = 0.15858997404575348, test_loss = 0.17651867866516113\n",
      "epoch 121,train_loss = 0.15628446638584137, test_loss = 0.1779501885175705\n",
      "epoch 122,train_loss = 0.15679164230823517, test_loss = 0.180252805352211\n",
      "epoch 123,train_loss = 0.15580938756465912, test_loss = 0.1747117042541504\n",
      "epoch 124,train_loss = 0.15527941286563873, test_loss = 0.17464672029018402\n",
      "epoch 125,train_loss = 0.15396514534950256, test_loss = 0.1765771210193634\n",
      "epoch 126,train_loss = 0.15427915751934052, test_loss = 0.17759500443935394\n",
      "epoch 127,train_loss = 0.153267502784729, test_loss = 0.17310306429862976\n",
      "epoch 128,train_loss = 0.15289413928985596, test_loss = 0.17182129621505737\n",
      "epoch 129,train_loss = 0.15203848481178284, test_loss = 0.17466983199119568\n",
      "epoch 130,train_loss = 0.1513088494539261, test_loss = 0.1734745353460312\n",
      "epoch 131,train_loss = 0.15151260793209076, test_loss = 0.17145754396915436\n",
      "epoch 132,train_loss = 0.1505710631608963, test_loss = 0.1718931645154953\n",
      "epoch 133,train_loss = 0.15016666054725647, test_loss = 0.17333275079727173\n",
      "epoch 134,train_loss = 0.14918926358222961, test_loss = 0.17017947137355804\n",
      "epoch 135,train_loss = 0.14970359206199646, test_loss = 0.16889195144176483\n",
      "epoch 136,train_loss = 0.14830461144447327, test_loss = 0.16952435672283173\n",
      "epoch 137,train_loss = 0.1485174596309662, test_loss = 0.1712333709001541\n",
      "epoch 138,train_loss = 0.148190438747406, test_loss = 0.1681094765663147\n",
      "epoch 139,train_loss = 0.14731189608573914, test_loss = 0.16796518862247467\n",
      "epoch 140,train_loss = 0.1473482996225357, test_loss = 0.1689554750919342\n",
      "epoch 141,train_loss = 0.1466730684041977, test_loss = 0.167954683303833\n",
      "epoch 142,train_loss = 0.14668308198451996, test_loss = 0.16637282073497772\n",
      "epoch 143,train_loss = 0.1460631638765335, test_loss = 0.16849222779273987\n",
      "epoch 144,train_loss = 0.14582106471061707, test_loss = 0.16720812022686005\n",
      "epoch 145,train_loss = 0.1457158923149109, test_loss = 0.16611464321613312\n",
      "epoch 146,train_loss = 0.1450503021478653, test_loss = 0.16677966713905334\n",
      "epoch 147,train_loss = 0.14481507241725922, test_loss = 0.16627612709999084\n",
      "epoch 148,train_loss = 0.14454805850982666, test_loss = 0.16501004993915558\n",
      "epoch 149,train_loss = 0.1445460468530655, test_loss = 0.1666785627603531\n",
      "epoch 150,train_loss = 0.14387129247188568, test_loss = 0.16530732810497284\n",
      "epoch 151,train_loss = 0.14385372400283813, test_loss = 0.1645183563232422\n",
      "epoch 152,train_loss = 0.14358960092067719, test_loss = 0.16590261459350586\n",
      "epoch 153,train_loss = 0.14377424120903015, test_loss = 0.1639726310968399\n",
      "epoch 154,train_loss = 0.14320050179958344, test_loss = 0.16503293812274933\n",
      "epoch 155,train_loss = 0.1427438110113144, test_loss = 0.1648632138967514\n",
      "epoch 156,train_loss = 0.14254871010780334, test_loss = 0.16288971900939941\n",
      "epoch 157,train_loss = 0.14218546450138092, test_loss = 0.16413983702659607\n",
      "epoch 158,train_loss = 0.14184853434562683, test_loss = 0.16323673725128174\n",
      "epoch 159,train_loss = 0.14197276532649994, test_loss = 0.16301734745502472\n",
      "epoch 160,train_loss = 0.14185769855976105, test_loss = 0.16422410309314728\n",
      "epoch 161,train_loss = 0.14106692373752594, test_loss = 0.16242679953575134\n",
      "epoch 162,train_loss = 0.14103271067142487, test_loss = 0.1632172167301178\n",
      "epoch 163,train_loss = 0.14094163477420807, test_loss = 0.16190394759178162\n",
      "epoch 164,train_loss = 0.14071232080459595, test_loss = 0.16169430315494537\n",
      "epoch 165,train_loss = 0.1407945454120636, test_loss = 0.16360417008399963\n",
      "epoch 166,train_loss = 0.1413586139678955, test_loss = 0.16127647459506989\n",
      "epoch 167,train_loss = 0.14096365869045258, test_loss = 0.16392481327056885\n",
      "epoch 168,train_loss = 0.14026087522506714, test_loss = 0.16149120032787323\n",
      "epoch 169,train_loss = 0.1397649347782135, test_loss = 0.1601879745721817\n",
      "epoch 170,train_loss = 0.14084264636039734, test_loss = 0.16361699998378754\n",
      "epoch 171,train_loss = 0.14600706100463867, test_loss = 0.1642494648694992\n",
      "epoch 172,train_loss = 0.14228656888008118, test_loss = 0.16725051403045654\n",
      "epoch 173,train_loss = 0.14358991384506226, test_loss = 0.170521542429924\n",
      "epoch 174,train_loss = 0.14032797515392303, test_loss = 0.1595335155725479\n",
      "epoch 175,train_loss = 0.1419735997915268, test_loss = 0.1597583144903183\n",
      "epoch 176,train_loss = 0.1521407812833786, test_loss = 0.17781540751457214\n",
      "epoch 177,train_loss = 0.1754777431488037, test_loss = 0.18850979208946228\n",
      "epoch 178,train_loss = 0.1781432032585144, test_loss = 0.19742351770401\n",
      "epoch 179,train_loss = 0.195723757147789, test_loss = 0.23056550323963165\n",
      "epoch 180,train_loss = 0.20152030885219574, test_loss = 0.23842784762382507\n",
      "epoch 181,train_loss = 0.1833723783493042, test_loss = 0.20859555900096893\n",
      "epoch 182,train_loss = 0.17842313647270203, test_loss = 0.19322898983955383\n",
      "epoch 183,train_loss = 0.16723491251468658, test_loss = 0.1812591701745987\n",
      "epoch 184,train_loss = 0.15208634734153748, test_loss = 0.17371760308742523\n",
      "epoch 185,train_loss = 0.16048169136047363, test_loss = 0.1904003769159317\n",
      "epoch 186,train_loss = 0.15787795186042786, test_loss = 0.18558692932128906\n",
      "epoch 187,train_loss = 0.16236580908298492, test_loss = 0.17676769196987152\n",
      "epoch 188,train_loss = 0.16461315751075745, test_loss = 0.17846542596817017\n",
      "epoch 189,train_loss = 0.14378288388252258, test_loss = 0.16654784977436066\n",
      "epoch 190,train_loss = 0.15608757734298706, test_loss = 0.19023986160755157\n",
      "epoch 191,train_loss = 0.15199463069438934, test_loss = 0.18441569805145264\n",
      "epoch 192,train_loss = 0.14640489220619202, test_loss = 0.17219401895999908\n",
      "epoch 193,train_loss = 0.1529981940984726, test_loss = 0.17347292602062225\n",
      "epoch 194,train_loss = 0.15315313637256622, test_loss = 0.17310866713523865\n",
      "epoch 195,train_loss = 0.14572863280773163, test_loss = 0.16948202252388\n",
      "epoch 196,train_loss = 0.14554999768733978, test_loss = 0.1746746003627777\n",
      "epoch 197,train_loss = 0.14859721064567566, test_loss = 0.1798742264509201\n",
      "epoch 198,train_loss = 0.14241406321525574, test_loss = 0.16917049884796143\n",
      "epoch 199,train_loss = 0.14276675879955292, test_loss = 0.16304689645767212\n"
     ]
    }
   ],
   "source": [
    "epochs = 1000\n",
    "lr_scheduler = torch.optim.lr_scheduler.ReduceLROnPlateau(optimizer, factor=0.4, verbose=True, patience=25)\n",
    "for e in range(epochs):\n",
    "    optimizer.zero_grad()\n",
    "    h = gnn_model(g_train, X) #gnn forward pass\n",
    "    h_train = h[train_pairs] #pick features from train parirs\n",
    "    h_test = h[test_pairs]#pick features from test parirs\n",
    "    se_vec = (h_train[:,0,:] - h_train[:,1,:]) ** 2 #compute squared difference \n",
    "    se_vec = torch.cat([se_vec, X_pairs_train], dim=-1) # add emperical features\n",
    "    #scores = (h_train[:,0,:] * h_train[:,1,:]).sum(dim=-1)\n",
    "    scores = mlp_model(se_vec.squeeze()).squeeze() #MLP forward pass\n",
    "    with torch.no_grad():\n",
    "        #same for test\n",
    "        se_vec_test = (h_test[:,0,:] - h_test[:,1,:]) ** 2\n",
    "        se_vec_test = torch.cat([se_vec_test, X_pairs_test], dim=-1)\n",
    "        scores_test = mlp_model(se_vec_test.squeeze()).squeeze()\n",
    "        test_loss = F.binary_cross_entropy_with_logits(scores_test, test_labels)\n",
    "        lr_scheduler.step(test_loss)\n",
    "    loss  = F.binary_cross_entropy_with_logits(scores, train_labels)\n",
    "    loss.backward()\n",
    "    optimizer.step()\n",
    "\n",
    "    print(\"epoch {},train_loss = {}, test_loss = {}\".format(e, loss.item(), test_loss.item()))"
   ]
  },
  {
   "cell_type": "code",
   "execution_count": null,
   "metadata": {
    "id": "HHn0338wE0sJ"
   },
   "outputs": [],
   "source": [
    "from sklearn.metrics import f1_score, accuracy_score"
   ]
  },
  {
   "cell_type": "code",
   "execution_count": null,
   "metadata": {
    "id": "ul9qjtbiFCtP"
   },
   "outputs": [],
   "source": [
    "test_prob = torch.sigmoid(scores_test).cpu().numpy()\n",
    "pred_labels = (test_prob > 0.3) * 1.\n",
    "y_test_np = test_labels.cpu().numpy()"
   ]
  },
  {
   "cell_type": "code",
   "execution_count": null,
   "metadata": {
    "colab": {
     "base_uri": "https://localhost:8080/"
    },
    "id": "TYBs67gME58h",
    "outputId": "bb7e709b-0f51-4c7c-a2e0-d973d3b7ad41"
   },
   "outputs": [
    {
     "name": "stdout",
     "output_type": "stream",
     "text": [
      "0.9286927095350502\n",
      "0.9264132166820316\n"
     ]
    }
   ],
   "source": [
    "print(f1_score(y_test_np, pred_labels))\n",
    "\n",
    "print(accuracy_score(y_test_np, pred_labels))"
   ]
  },
  {
   "cell_type": "code",
   "execution_count": null,
   "metadata": {
    "id": "0kkJBgv6Xncg"
   },
   "outputs": [],
   "source": [
    "with torch.no_grad():\n",
    "    h = gnn_model(g_train, X)\n",
    "    h_sub = h[sub_pairs]\n",
    "    se_vec = (h_sub[:,0,:] - h_sub[:,1,:]) ** 2\n",
    "    se_vec = torch.cat([se_vec, X_sub[:i+1].to(device)], dim=-1)\n",
    "\n",
    "    scores = mlp_model(se_vec.squeeze()).squeeze()"
   ]
  },
  {
   "cell_type": "code",
   "execution_count": null,
   "metadata": {
    "id": "0HzmCJrsl_OV"
   },
   "outputs": [],
   "source": [
    "probs = torch.sigmoid(scores).cpu().detach().numpy()"
   ]
  },
  {
   "cell_type": "code",
   "execution_count": null,
   "metadata": {
    "id": "y2Q4DxaumcBw"
   },
   "outputs": [],
   "source": [
    "predictions = zip(range(len(probs)), probs)"
   ]
  }
 ],
 "metadata": {
  "accelerator": "GPU",
  "colab": {
   "provenance": []
  },
  "kernelspec": {
   "display_name": "Python 3 (ipykernel)",
   "language": "python",
   "name": "python3"
  },
  "language_info": {
   "codemirror_mode": {
    "name": "ipython",
    "version": 3
   },
   "file_extension": ".py",
   "mimetype": "text/x-python",
   "name": "python",
   "nbconvert_exporter": "python",
   "pygments_lexer": "ipython3",
   "version": "3.9.5"
  }
 },
 "nbformat": 4,
 "nbformat_minor": 1
}
